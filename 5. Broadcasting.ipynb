{
 "cells": [
  {
   "cell_type": "markdown",
   "metadata": {},
   "source": [
    "# Broadcasting in Numpy\n",
    "\n",
    "To write clean and short code using numpy, it is very helpful to know about Broadcasting.\n",
    "\n",
    "The term broadcasting describes how numpy treats arrays with different shapes during arithmetic operations. Subject to certain constraints, the smaller array is “broadcast” across the larger array so that they have compatible shapes. "
   ]
  },
  {
   "cell_type": "code",
   "execution_count": 2,
   "metadata": {},
   "outputs": [],
   "source": [
    "import numpy as np"
   ]
  },
  {
   "cell_type": "markdown",
   "metadata": {},
   "source": [
    "A very easy example of Broadcasting would be to add a real number to a numpy array."
   ]
  },
  {
   "cell_type": "code",
   "execution_count": 3,
   "metadata": {},
   "outputs": [
    {
     "name": "stdout",
     "output_type": "stream",
     "text": [
      "Adding 2 to every element of a gives [3 4 5]\n",
      "Adding 2 to every element of a_ gives [3 4 5]\n"
     ]
    }
   ],
   "source": [
    "#without broadcasting\n",
    "a = np.array([1,2,3])\n",
    "b = np.array([2,2,2])\n",
    "c = a+b\n",
    "print('Adding 2 to every element of a gives',c)\n",
    "\n",
    "#with broadcasting\n",
    "a_ = np.array([1,2,3])\n",
    "b_ = 2\n",
    "c_ = a_ + b_\n",
    "print('Adding 2 to every element of a_ gives',c_)"
   ]
  },
  {
   "cell_type": "code",
   "execution_count": 6,
   "metadata": {},
   "outputs": [
    {
     "name": "stdout",
     "output_type": "stream",
     "text": [
      "b is broadcasted to a shape of (3,)\n",
      "THen element-wise multiplication yields [2 4 6]\n"
     ]
    }
   ],
   "source": [
    "#similarly\n",
    "a = np.array([1,2,3])\n",
    "b = 2\n",
    "c = a*b\n",
    "print('b is broadcasted to a shape of',a.shape)\n",
    "print('THen element-wise multiplication yields',c)"
   ]
  },
  {
   "cell_type": "markdown",
   "metadata": {},
   "source": [
    "### General Broadcasting Rules\n",
    "\n",
    "When operating on two arrays, NumPy compares their shapes element-wise. It starts with the trailing dimensions, and works its way forward. Two dimensions are compatible when\n",
    "\n",
    "   1. they are equal, or\n",
    "   2. one of them is 1\n"
   ]
  },
  {
   "cell_type": "markdown",
   "metadata": {},
   "source": [
    "For example, shape of x is (8,5) and y is (5). So starting from back, \n",
    "- 5 == 5 : True,  \n",
    "- No more dimesions of x, so stretch y to dimension (8,5) and then perform elment-wise multiplication"
   ]
  },
  {
   "cell_type": "code",
   "execution_count": 7,
   "metadata": {},
   "outputs": [
    {
     "name": "stdout",
     "output_type": "stream",
     "text": [
      "x.shape= (8, 5)\n",
      "y.shape= (5,)\n",
      "(Result) z.shape= (8, 5)\n"
     ]
    }
   ],
   "source": [
    "# for example\n",
    "x = np.ones((8,5))\n",
    "y = np.ones(5)\n",
    "z = x*y\n",
    "print('x.shape=',x.shape)\n",
    "print('y.shape=',y.shape)\n",
    "print('(Result) z.shape=',z.shape)"
   ]
  },
  {
   "cell_type": "markdown",
   "metadata": {},
   "source": [
    "Next one, shape of x is (8,5) and y is (1,5). So starting from back, \n",
    "- 5 == 5 : True,  \n",
    "- 1 == 8 : False, but as said above, \n",
    "Two dimensions are compatible when one of them is 1. \n",
    "\n",
    "So again y is broadcasted to shape (8,5) before multiplication."
   ]
  },
  {
   "cell_type": "code",
   "execution_count": 9,
   "metadata": {},
   "outputs": [
    {
     "name": "stdout",
     "output_type": "stream",
     "text": [
      "x.shape= (8, 5)\n",
      "y.shape= (1, 5)\n",
      "(Result) z.shape= (8, 5)\n"
     ]
    }
   ],
   "source": [
    "# for example\n",
    "x = np.ones((8,5))\n",
    "y = np.ones((1,5))\n",
    "z = x*y\n",
    "print('x.shape=',x.shape)\n",
    "print('y.shape=',y.shape)\n",
    "print('(Result) z.shape=',z.shape)"
   ]
  },
  {
   "cell_type": "markdown",
   "metadata": {},
   "source": [
    "Next one, shape of x is (15,3,5) and y is (15,1,5). So starting from back, \n",
    "- 5 == 5 : True,  \n",
    "- 1 == 3 : False, but since one of them is 1, it's compatible.\n",
    "- 15 == 15: True\n",
    "\n",
    "So y is broadcasted to shape (15,3,5) and multiplied."
   ]
  },
  {
   "cell_type": "code",
   "execution_count": 10,
   "metadata": {},
   "outputs": [
    {
     "name": "stdout",
     "output_type": "stream",
     "text": [
      "x.shape= (15, 3, 5)\n",
      "y.shape= (15, 1, 5)\n",
      "(Result) z.shape= (15, 3, 5)\n"
     ]
    }
   ],
   "source": [
    "# for example\n",
    "x = np.ones((15,3,5))\n",
    "y = np.ones((15,1,5))\n",
    "z = x*y\n",
    "print('x.shape=',x.shape)\n",
    "print('y.shape=',y.shape)\n",
    "print('(Result) z.shape=',z.shape)"
   ]
  },
  {
   "cell_type": "markdown",
   "metadata": {},
   "source": [
    "### Shapes that do not broadcast\n",
    "Now, let us show what is ***NOT CORRECT***"
   ]
  },
  {
   "cell_type": "markdown",
   "metadata": {},
   "source": [
    "1. Trailing dimensions do not match."
   ]
  },
  {
   "cell_type": "code",
   "execution_count": 14,
   "metadata": {},
   "outputs": [
    {
     "name": "stdout",
     "output_type": "stream",
     "text": [
      "x.shape= (15, 3, 5)\n",
      "y.shape= (15, 1, 5)\n",
      "Broadcasting not possible. Value error raised.\n",
      "Error message: operands could not be broadcast together with shapes (3,) (4,) \n"
     ]
    }
   ],
   "source": [
    "a = np.array([1,2,3])\n",
    "b = np.array([4,5,6,7])\n",
    "\n",
    "print('x.shape=',x.shape)\n",
    "print('y.shape=',y.shape)\n",
    "    \n",
    "try:\n",
    "    c = a*b\n",
    "    print('(Result) z.shape=',z.shape)\n",
    "except ValueError as e:\n",
    "    print('Broadcasting not possible. Value error raised.')\n",
    "    print('Error message:',e)"
   ]
  },
  {
   "cell_type": "markdown",
   "metadata": {},
   "source": [
    "2. Second from last dimension mismatch"
   ]
  },
  {
   "cell_type": "code",
   "execution_count": 20,
   "metadata": {},
   "outputs": [
    {
     "name": "stdout",
     "output_type": "stream",
     "text": [
      "x.shape= (15, 3, 5)\n",
      "y.shape= (15, 1, 5)\n",
      "Broadcasting not possible. The last dimension of b is broadcasted from 1 to 5.\n",
      " But 2 != 3, raises the broadcasting array.\n",
      "Error message: operands could not be broadcast together with shapes (15,3,5) (15,2,1) \n"
     ]
    }
   ],
   "source": [
    "a = np.ones((15,3,5))\n",
    "b = np.ones((15,2,1))\n",
    "\n",
    "print('x.shape=',x.shape)\n",
    "print('y.shape=',y.shape)\n",
    "    \n",
    "try:\n",
    "    c = a*b\n",
    "    print('(Result) z.shape=',z.shape)\n",
    "except ValueError as e:\n",
    "    print('Broadcasting not possible. The last',\n",
    "         'dimension of b is broadcasted from 1 to 5.\\n',\n",
    "          'But 2 != 3, raises the broadcasting array.')\n",
    "    print('Error message:',e)"
   ]
  }
 ],
 "metadata": {
  "kernelspec": {
   "display_name": "Python 3",
   "language": "python",
   "name": "python3"
  },
  "language_info": {
   "codemirror_mode": {
    "name": "ipython",
    "version": 3
   },
   "file_extension": ".py",
   "mimetype": "text/x-python",
   "name": "python",
   "nbconvert_exporter": "python",
   "pygments_lexer": "ipython3",
   "version": "3.7.3"
  }
 },
 "nbformat": 4,
 "nbformat_minor": 2
}
